{
 "cells": [
  {
   "cell_type": "code",
   "execution_count": null,
   "metadata": {},
   "outputs": [],
   "source": [
    "# download\n",
    "!mkdir data\n",
    "!wget -P data/ https://s3.amazonaws.com/my89public/quac/train_v0.2.json --no-check-certificate\n",
    "!wget -P data/ https://s3.amazonaws.com/my89public/quac/val_v0.2.json --no-check-certificate\n",
    "\n",
    "# preprocessing\n",
    "!python toolbox/download_process_quac.py --quac_file data/train_v0.2.json --output_file data/quac_train.json\n",
    "!python toolbox/download_process_quac.py --quac_file data/val_v0.2.json --output_file data/quac_dev.json"
   ]
  },
  {
   "cell_type": "code",
   "execution_count": 1,
   "metadata": {},
   "outputs": [],
   "source": [
    "import pandas as pd\n",
    "import numpy as np\n",
    "from datasets import Dataset\n",
    "from datasets.dataset_dict import DatasetDict\n",
    "\n",
    "import torch.nn as nn\n",
    "from transformers import TrainingArguments, Trainer\n",
    "from transformers import EarlyStoppingCallback, DataCollatorWithPadding\n",
    "from transformers import BertTokenizerFast, LongformerTokenizerFast\n",
    "from transformers import BertForQuestionAnswering, LongformerForQuestionAnswering"
   ]
  },
  {
   "cell_type": "code",
   "execution_count": 2,
   "metadata": {},
   "outputs": [],
   "source": [
    "def add_end_pos(answers, docs):\n",
    "    for answer, context in zip(answers, docs):\n",
    "      end_pos = answer['answer_start'] + len(answer['text'])\n",
    "      if context[answer['answer_start']:end_pos] == answer['text']:\n",
    "        answer['answer_end'] = end_pos\n",
    "      else:\n",
    "        Exception('error..')\n",
    "    return answers\n",
    "\n",
    "def extract_info(data):\n",
    "    questions, docs, answers, answer_candidates = [], [], [], []\n",
    "    ids, is_impossible, yesno, followups = [], [], [], []\n",
    "\n",
    "    for dialog in data:\n",
    "        assert len(dialog)==1\n",
    "        assert len(dialog['paragraphs'])==1\n",
    "        assert len(dialog['paragraphs'][0]['qas'])==1\n",
    "\n",
    "        # document/context\n",
    "        doc = dialog['paragraphs'][0]['context']\n",
    "        docs.append(doc)\n",
    "\n",
    "        #others\n",
    "        qas = dialog['paragraphs'][0]['qas'][0]\n",
    "        ids.append(qas['id'])\n",
    "        questions.append(qas['question'])\n",
    "        answers.append(qas['answers'][0])\n",
    "        is_impossible.append(qas['is_impossible'])\n",
    "        yesno.append(qas['yesno'])\n",
    "        followups.append(qas['followup'])\n",
    "        answer_candidates.append(qas['answer_candidates'])\n",
    "\n",
    "    answers = add_end_pos(answers, docs)\n",
    "    return {'questions':questions, 'docs':docs, 'answers':answers, 'ids':ids, 'is_impossible':is_impossible, 'yesno':yesno, 'followups':followups, 'answer_candidates':answer_candidates}\n",
    "\n",
    "def load_process_data(train_dir, val_dir):\n",
    "    train = pd.read_json(train_dir)['data']\n",
    "    val = pd.read_json(val_dir)['data']\n",
    "\n",
    "    train = extract_info(train)\n",
    "    val = extract_info(val)\n",
    "    \n",
    "    train = process_cannoranswer(train)\n",
    "    val = process_cannoranswer(val)\n",
    "\n",
    "    train = Dataset.from_dict(train)\n",
    "    val = Dataset.from_dict(val)\n",
    "    dataset = DatasetDict({'train': train, 'validation': val})\n",
    "\n",
    "    return dataset\n",
    "\n",
    "def process_cannoranswer(dataset):\n",
    "    dataset['docs'] = [i[:-13] for i in dataset['docs']]\n",
    "    new = []\n",
    "    for i in dataset['answers']:\n",
    "        if i['text']=='CANNOTANSWER':\n",
    "            new.append({'text': '', 'answer_start': 0, 'answer_end':0})\n",
    "        else:\n",
    "            new.append(i)\n",
    "    dataset['answers'] = new\n",
    "    return dataset"
   ]
  },
  {
   "cell_type": "code",
   "execution_count": 3,
   "metadata": {},
   "outputs": [],
   "source": [
    "def add_token_positions(val, answers):\n",
    "    start_positions = []\n",
    "    end_positions = []\n",
    "    for i in range(len(answers)):\n",
    "\n",
    "        if (answers[i]['answer_end']==0) & (answers[i]['answer_start']==0):\n",
    "            start_positions.append(0)\n",
    "            end_positions.append(0)\n",
    "        else:\n",
    "\n",
    "            # val.char_to_token(i, answers[i]['answer_start']) is the start_pos and it can be none\n",
    "            start_positions.append(val.char_to_token(i, answers[i]['answer_start'], sequence_index=1))\n",
    "\n",
    "            #this alone should not exist\n",
    "            if(answers[i]['answer_end']==0):\n",
    "                Exception('error...')\n",
    "                #end_positions.append(val.char_to_token(i, answers[i]['answer_end'])) \n",
    "            else:\n",
    "                end_positions.append(val.char_to_token(i, answers[i]['answer_end'] - 1, sequence_index=1))\n",
    "\n",
    "            # if None, the answer passage has been truncated\n",
    "             # Here is not a good approach\n",
    "            if start_positions[-1] is None:\n",
    "#                 print('start_positions[-1] is None')\n",
    "                start_positions[-1] = 0\n",
    "\n",
    "            if end_positions[-1] is None:\n",
    "#                 print('end_positions[-1] is None')\n",
    "                end_positions[-1] = 0\n",
    "\n",
    "    return start_positions, end_positions\n",
    "\n",
    "max_length = 512 # The maximum length of a feature (question and context)\n",
    "doc_stride = 64 # The authorized overlap between two part of the context when splitting it is needed.\n",
    "\n",
    "def add_token_positions_chunking(tokenized_examples, all_answers):\n",
    "    \n",
    "    start_positions = []\n",
    "    end_positions = []\n",
    "    \n",
    "    sample_mapping = tokenized_examples[\"overflow_to_sample_mapping\"]\n",
    "    offset_mapping = tokenized_examples[\"offset_mapping\"]\n",
    "\n",
    "    for i, offsets in enumerate(offset_mapping):\n",
    "        input_ids = tokenized_examples[\"input_ids\"][i]\n",
    "        \n",
    "        # Label impossible answers with the index of the CLS token (0,0).\n",
    "        cls_index = input_ids.index(tokenizer.cls_token_id)\n",
    "\n",
    "        # Grab the sequence corresponding to that example (to know what is the context and what is the question).\n",
    "        # id == 0: question, id == 1: context\n",
    "        sequence_ids = tokenized_examples.sequence_ids(i)\n",
    "\n",
    "        # One example can give several spans, this is the index of the example containing this span of text.\n",
    "        sample_index = sample_mapping[i]\n",
    "        answers = all_answers[sample_index]\n",
    "        # If no answers are given, set the cls_index as answer.\n",
    "        # In our case, all questons with CANNOTANSWER return an answer_end of None. Thus all these cases get labeled (0,0) \n",
    "        if answers[\"answer_end\"] == None:\n",
    "            Exception('error...')\n",
    "        if answers[\"answer_end\"] == 0:\n",
    "            start_positions.append(cls_index)\n",
    "            end_positions.append(cls_index)\n",
    "        else:\n",
    "            start_char = answers[\"answer_start\"]\n",
    "            end_char = answers[\"answer_end\"]\n",
    "\n",
    "            # Set token index where context starts (sequence_id==1)\n",
    "            token_start_index = 0\n",
    "            while sequence_ids[token_start_index] != 1:\n",
    "                token_start_index += 1\n",
    "\n",
    "            # End token index of the current span in the text\n",
    "            token_end_index = len(input_ids) - 1\n",
    "            while sequence_ids[token_end_index] != 1:\n",
    "                token_end_index -= 1\n",
    "\n",
    "            # Detect if the answer is out of the span\n",
    "            if not (offsets[token_start_index][0] <= start_char and offsets[token_end_index][1] >= end_char):\n",
    "                start_positions.append(cls_index)\n",
    "                end_positions.append(cls_index)\n",
    "            else:\n",
    "                # Move the token_start_index to start_char\n",
    "                while token_start_index < len(offsets) and offsets[token_start_index][0] <= start_char:\n",
    "                    token_start_index += 1\n",
    "                start_positions.append(token_start_index - 1)\n",
    "                # Move token_end_index to the end_char\n",
    "                while offsets[token_end_index][1] >= end_char:\n",
    "                    token_end_index -= 1\n",
    "                end_positions.append(token_end_index + 1)\n",
    "    return start_positions, end_positions\n",
    "\n",
    "def chunking_encode(examples):\n",
    "    \"\"\"Mapping function to tokenize the sentences passed with truncation\"\"\"\n",
    "    encoding = tokenizer(examples[\"questions\"], examples[\"docs\"], truncation=\"only_second\",\n",
    "                     max_length=max_length, return_overflowing_tokens=True, return_offsets_mapping=True, stride=doc_stride)\n",
    "    \n",
    "\n",
    "    overflow_mapping = np.array(encoding['overflow_to_sample_mapping'])\n",
    "\n",
    "    for i in ['answers', 'ids', 'is_impossible', 'yesno', 'followups', 'answer_candidates']:\n",
    "        encoding.update({i: np.array(examples[i])[overflow_mapping]})\n",
    "\n",
    "    overflow_answers = np.array(examples['answers'])[overflow_mapping].tolist()\n",
    "    #encoding.update({'answers': np.array(examples['answers'])[overflow_mapping]})\n",
    "\n",
    "    start_positions, end_positions = add_token_positions(encoding, overflow_answers)\n",
    "    start_positions, end_positions = add_token_positions_chunking(encoding, overflow_answers)\n",
    "    encoding.update({'start_positions': start_positions, 'end_positions': end_positions})\n",
    "    return encoding\n",
    "\n",
    "def synchronize(dataset, chunked):\n",
    "    for i in ['answers', 'ids', 'is_impossible', 'yesno', 'followups']:\n",
    "        overflow_mapping = np.array(chunked['overflow_to_sample_mapping'])\n",
    "        chunked = chunked.add_column(i, np.array(dataset[i])[overflow_mapping])\n",
    "    return chunked\n"
   ]
  },
  {
   "cell_type": "code",
   "execution_count": 4,
   "metadata": {},
   "outputs": [],
   "source": [
    "train_dir = 'data/quac_train.json' \n",
    "val_dir = 'data/quac_dev.json' \n",
    "dataset = load_process_data(train_dir, val_dir)"
   ]
  },
  {
   "cell_type": "code",
   "execution_count": 5,
   "metadata": {},
   "outputs": [],
   "source": [
    "tokenizer = BertTokenizerFast.from_pretrained('bert-base-uncased', cache_dir=\"bert_base/\")\n",
    "#tokenizer = LongformerTokenizerFast.from_pretrained('allenai/longformer-base-4096', cache_dir=\"longformer/\")"
   ]
  },
  {
   "cell_type": "code",
   "execution_count": 6,
   "metadata": {},
   "outputs": [
    {
     "data": {
      "application/vnd.jupyter.widget-view+json": {
       "model_id": "9f636947cd04406e9b3c0827472ebd3f",
       "version_major": 2,
       "version_minor": 0
      },
      "text/plain": [
       "  0%|          | 0/84 [00:00<?, ?ba/s]"
      ]
     },
     "metadata": {},
     "output_type": "display_data"
    },
    {
     "data": {
      "application/vnd.jupyter.widget-view+json": {
       "model_id": "d7711126e1f2432b99c3a00679328402",
       "version_major": 2,
       "version_minor": 0
      },
      "text/plain": [
       "  0%|          | 0/8 [00:00<?, ?ba/s]"
      ]
     },
     "metadata": {},
     "output_type": "display_data"
    }
   ],
   "source": [
    "train =  dataset[\"train\"].map(chunking_encode, batched=True, remove_columns=dataset[\"train\"].column_names)\n",
    "val =  dataset[\"validation\"].map(chunking_encode, batched=True, remove_columns=dataset[\"validation\"].column_names)"
   ]
  },
  {
   "cell_type": "code",
   "execution_count": 7,
   "metadata": {},
   "outputs": [],
   "source": [
    "def prepare_model(trainSet,valSet,tokenizer):\n",
    "\n",
    "    model = BertForQuestionAnswering.from_pretrained('bert-base-uncased', cache_dir=\"bert_base/\")\n",
    "    #model = LongformerForQuestionAnswering.from_pretrained('allenai/longformer-base-4096', cache_dir=\"longformer/\")\n",
    "    model.cuda()\n",
    "\n",
    "    data_collator = DataCollatorWithPadding(tokenizer=tokenizer)\n",
    "\n",
    "    print('preparing model...')\n",
    "\n",
    "    args = TrainingArguments(\n",
    "        \"bert-base-cased-finetuned-quac\",\n",
    "        evaluation_strategy = \"steps\",\n",
    "        eval_steps=10,\n",
    "        save_strategy = \"steps\",\n",
    "        learning_rate=2e-5,\n",
    "        adafactor=True,\n",
    "        per_device_train_batch_size=32,\n",
    "        #gradient_accumulation_steps=4,\n",
    "        per_device_eval_batch_size=20,\n",
    "        logging_steps = 50,\n",
    "        num_train_epochs=50,\n",
    "        group_by_length=True,\n",
    "        weight_decay=0.01,\n",
    "        fp16=True,\n",
    "        #warmup_ratio=0.02,\n",
    "        save_total_limit = 3,\n",
    "        load_best_model_at_end=True,\n",
    "        report_to=\"wandb\",\n",
    "        run_name=\"bert-base-cased-finetuned-quac\",\n",
    "      )\n",
    "\n",
    "    trainer_quac = Trainer(\n",
    "        model=model,\n",
    "        args=args,\n",
    "        train_dataset=trainSet,\n",
    "        eval_dataset=valSet,\n",
    "        tokenizer=tokenizer,\n",
    "        data_collator=data_collator,\n",
    "        callbacks = [EarlyStoppingCallback(early_stopping_patience=3)],\n",
    "      )\n",
    "\n",
    "    print('ready to train!')\n",
    "    return trainer_quac"
   ]
  },
  {
   "cell_type": "code",
   "execution_count": 8,
   "metadata": {},
   "outputs": [
    {
     "name": "stderr",
     "output_type": "stream",
     "text": [
      "Some weights of the model checkpoint at bert-base-uncased were not used when initializing BertForQuestionAnswering: ['cls.predictions.transform.dense.bias', 'cls.predictions.transform.dense.weight', 'cls.predictions.decoder.weight', 'cls.seq_relationship.weight', 'cls.seq_relationship.bias', 'cls.predictions.transform.LayerNorm.bias', 'cls.predictions.bias', 'cls.predictions.transform.LayerNorm.weight']\n",
      "- This IS expected if you are initializing BertForQuestionAnswering from the checkpoint of a model trained on another task or with another architecture (e.g. initializing a BertForSequenceClassification model from a BertForPreTraining model).\n",
      "- This IS NOT expected if you are initializing BertForQuestionAnswering from the checkpoint of a model that you expect to be exactly identical (initializing a BertForSequenceClassification model from a BertForSequenceClassification model).\n",
      "Some weights of BertForQuestionAnswering were not initialized from the model checkpoint at bert-base-uncased and are newly initialized: ['qa_outputs.bias', 'qa_outputs.weight']\n",
      "You should probably TRAIN this model on a down-stream task to be able to use it for predictions and inference.\n"
     ]
    },
    {
     "name": "stdout",
     "output_type": "stream",
     "text": [
      "preparing model...\n"
     ]
    },
    {
     "name": "stderr",
     "output_type": "stream",
     "text": [
      "e:\\Anaconda3\\envs\\huggingface\\lib\\site-packages\\transformers\\training_args.py:1119: FutureWarning: `--adafactor` is deprecated and will be removed in version 5 of 🤗 Transformers. Use `--optim adafactor` instead\n",
      "  warnings.warn(\n",
      "Using cuda_amp half precision backend\n",
      "The following columns in the training set don't have a corresponding argument in `BertForQuestionAnswering.forward` and have been ignored: yesno, followups, is_impossible, answers, offset_mapping, ids, answer_candidates, overflow_to_sample_mapping. If yesno, followups, is_impossible, answers, offset_mapping, ids, answer_candidates, overflow_to_sample_mapping are not expected by `BertForQuestionAnswering.forward`,  you can safely ignore this message.\n"
     ]
    },
    {
     "name": "stdout",
     "output_type": "stream",
     "text": [
      "ready to train!\n"
     ]
    },
    {
     "name": "stderr",
     "output_type": "stream",
     "text": [
      "***** Running training *****\n",
      "  Num examples = 123459\n",
      "  Num Epochs = 50\n",
      "  Instantaneous batch size per device = 32\n",
      "  Total train batch size (w. parallel, distributed & accumulation) = 32\n",
      "  Gradient Accumulation steps = 1\n",
      "  Total optimization steps = 192950\n",
      "  Number of trainable parameters = 108893186\n",
      "Automatic Weights & Biases logging enabled, to disable set os.environ[\"WANDB_DISABLED\"] = \"true\"\n",
      "Failed to detect the name of this notebook, you can set it manually with the WANDB_NOTEBOOK_NAME environment variable to enable code saving.\n",
      "\u001b[34m\u001b[1mwandb\u001b[0m: Currently logged in as: \u001b[33mtan3\u001b[0m. Use \u001b[1m`wandb login --relogin`\u001b[0m to force relogin\n"
     ]
    },
    {
     "data": {
      "text/html": [
       "wandb version 0.13.9 is available!  To upgrade, please run:\n",
       " $ pip install wandb --upgrade"
      ],
      "text/plain": [
       "<IPython.core.display.HTML object>"
      ]
     },
     "metadata": {},
     "output_type": "display_data"
    },
    {
     "data": {
      "text/html": [
       "Tracking run with wandb version 0.13.6"
      ],
      "text/plain": [
       "<IPython.core.display.HTML object>"
      ]
     },
     "metadata": {},
     "output_type": "display_data"
    },
    {
     "data": {
      "text/html": [
       "Run data is saved locally in <code>e:\\Github\\QuAC_Implementation\\wandb\\run-20230118_204419-3isdwgzj</code>"
      ],
      "text/plain": [
       "<IPython.core.display.HTML object>"
      ]
     },
     "metadata": {},
     "output_type": "display_data"
    },
    {
     "data": {
      "text/html": [
       "Syncing run <strong><a href=\"https://wandb.ai/tan3/huggingface/runs/3isdwgzj\" target=\"_blank\">bert-base-cased-finetuned-quac</a></strong> to <a href=\"https://wandb.ai/tan3/huggingface\" target=\"_blank\">Weights & Biases</a> (<a href=\"https://wandb.me/run\" target=\"_blank\">docs</a>)<br/>"
      ],
      "text/plain": [
       "<IPython.core.display.HTML object>"
      ]
     },
     "metadata": {},
     "output_type": "display_data"
    },
    {
     "data": {
      "application/vnd.jupyter.widget-view+json": {
       "model_id": "8de7d0e7afce4a1a8a5e4426f35036f4",
       "version_major": 2,
       "version_minor": 0
      },
      "text/plain": [
       "  0%|          | 0/192950 [00:00<?, ?it/s]"
      ]
     },
     "metadata": {},
     "output_type": "display_data"
    },
    {
     "name": "stderr",
     "output_type": "stream",
     "text": [
      "You're using a BertTokenizerFast tokenizer. Please note that with a fast tokenizer, using the `__call__` method is faster than using a method to encode the text followed by a call to the `pad` method to get a padded encoding.\n",
      "The following columns in the evaluation set don't have a corresponding argument in `BertForQuestionAnswering.forward` and have been ignored: yesno, followups, is_impossible, answers, offset_mapping, ids, answer_candidates, overflow_to_sample_mapping. If yesno, followups, is_impossible, answers, offset_mapping, ids, answer_candidates, overflow_to_sample_mapping are not expected by `BertForQuestionAnswering.forward`,  you can safely ignore this message.\n",
      "***** Running Evaluation *****\n",
      "  Num examples = 11909\n",
      "  Batch size = 20\n"
     ]
    },
    {
     "data": {
      "application/vnd.jupyter.widget-view+json": {
       "model_id": "741b2706c52340aaa00eea1eb12e9651",
       "version_major": 2,
       "version_minor": 0
      },
      "text/plain": [
       "  0%|          | 0/596 [00:00<?, ?it/s]"
      ]
     },
     "metadata": {},
     "output_type": "display_data"
    },
    {
     "name": "stdout",
     "output_type": "stream",
     "text": [
      "{'eval_loss': 4.989104747772217, 'eval_runtime': 40.1085, 'eval_samples_per_second': 296.92, 'eval_steps_per_second': 14.86, 'epoch': 0.0}\n"
     ]
    },
    {
     "name": "stderr",
     "output_type": "stream",
     "text": [
      "The following columns in the evaluation set don't have a corresponding argument in `BertForQuestionAnswering.forward` and have been ignored: yesno, followups, is_impossible, answers, offset_mapping, ids, answer_candidates, overflow_to_sample_mapping. If yesno, followups, is_impossible, answers, offset_mapping, ids, answer_candidates, overflow_to_sample_mapping are not expected by `BertForQuestionAnswering.forward`,  you can safely ignore this message.\n",
      "***** Running Evaluation *****\n",
      "  Num examples = 11909\n",
      "  Batch size = 20\n"
     ]
    },
    {
     "data": {
      "application/vnd.jupyter.widget-view+json": {
       "model_id": "2b8aa87fd7ce4c5cad2709cad739018f",
       "version_major": 2,
       "version_minor": 0
      },
      "text/plain": [
       "  0%|          | 0/596 [00:00<?, ?it/s]"
      ]
     },
     "metadata": {},
     "output_type": "display_data"
    },
    {
     "name": "stdout",
     "output_type": "stream",
     "text": [
      "{'eval_loss': 3.8072826862335205, 'eval_runtime': 39.9033, 'eval_samples_per_second': 298.447, 'eval_steps_per_second': 14.936, 'epoch': 0.01}\n"
     ]
    },
    {
     "name": "stderr",
     "output_type": "stream",
     "text": [
      "The following columns in the evaluation set don't have a corresponding argument in `BertForQuestionAnswering.forward` and have been ignored: yesno, followups, is_impossible, answers, offset_mapping, ids, answer_candidates, overflow_to_sample_mapping. If yesno, followups, is_impossible, answers, offset_mapping, ids, answer_candidates, overflow_to_sample_mapping are not expected by `BertForQuestionAnswering.forward`,  you can safely ignore this message.\n",
      "***** Running Evaluation *****\n",
      "  Num examples = 11909\n",
      "  Batch size = 20\n"
     ]
    },
    {
     "data": {
      "application/vnd.jupyter.widget-view+json": {
       "model_id": "2aa27f5a893b4defaec11cc08e392573",
       "version_major": 2,
       "version_minor": 0
      },
      "text/plain": [
       "  0%|          | 0/596 [00:00<?, ?it/s]"
      ]
     },
     "metadata": {},
     "output_type": "display_data"
    }
   ],
   "source": [
    "trainer_quac = prepare_model(train,val,tokenizer)\n",
    "trainer_quac.train()"
   ]
  },
  {
   "cell_type": "code",
   "execution_count": null,
   "metadata": {},
   "outputs": [],
   "source": []
  }
 ],
 "metadata": {
  "kernelspec": {
   "display_name": "Python 3.9.15 ('huggingface')",
   "language": "python",
   "name": "python3"
  },
  "language_info": {
   "codemirror_mode": {
    "name": "ipython",
    "version": 3
   },
   "file_extension": ".py",
   "mimetype": "text/x-python",
   "name": "python",
   "nbconvert_exporter": "python",
   "pygments_lexer": "ipython3",
   "version": "3.9.15"
  },
  "orig_nbformat": 4,
  "vscode": {
   "interpreter": {
    "hash": "0dabe801c376013a89feb4cd8e0adecc1feba37c80815c91c8a163775f30401c"
   }
  }
 },
 "nbformat": 4,
 "nbformat_minor": 2
}
