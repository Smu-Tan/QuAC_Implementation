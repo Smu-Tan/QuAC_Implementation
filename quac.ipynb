{
 "cells": [
  {
   "cell_type": "code",
   "execution_count": null,
   "metadata": {},
   "outputs": [],
   "source": [
    "# download\n",
    "!mkdir data\n",
    "!wget -P data/ https://s3.amazonaws.com/my89public/quac/train_v0.2.json --no-check-certificate\n",
    "!wget -P data/ https://s3.amazonaws.com/my89public/quac/val_v0.2.json --no-check-certificate\n",
    "\n",
    "# preprocessing\n",
    "!python toolbox/download_process_quac.py --quac_file data/train_v0.2.json --output_file data/quac_train.json\n",
    "!python toolbox/download_process_quac.py --quac_file data/val_v0.2.json --output_file data/quac_dev.json"
   ]
  },
  {
   "cell_type": "code",
   "execution_count": 1,
   "metadata": {},
   "outputs": [],
   "source": [
    "import pandas as pd\n",
    "from datasets import Dataset\n",
    "from datasets.dataset_dict import DatasetDict\n",
    "\n",
    "import torch.nn as nn\n",
    "from transformers import TrainingArguments, Trainer\n",
    "from transformers import EarlyStoppingCallback, DataCollatorWithPadding\n",
    "from transformers import BertTokenizerFast, LongformerTokenizerFast\n",
    "from transformers import BertForQuestionAnswering, LongformerForQuestionAnswering"
   ]
  },
  {
   "cell_type": "code",
   "execution_count": 2,
   "metadata": {},
   "outputs": [],
   "source": [
    "def add_end_pos(answers, docs):\n",
    "    for answer, context in zip(answers, docs):\n",
    "      end_pos = answer['answer_start'] + len(answer['text'])\n",
    "      if context[answer['answer_start']:end_pos] == answer['text']:\n",
    "        answer['answer_end'] = end_pos\n",
    "      else:\n",
    "        Exception('error..')\n",
    "    return answers\n",
    "\n",
    "def extract_info(data):\n",
    "    questions, docs, answers, answer_candidates = [], [], [], []\n",
    "    ids, is_impossible, yesno, followups = [], [], [], []\n",
    "\n",
    "    for dialog in data:\n",
    "        assert len(dialog)==1\n",
    "        assert len(dialog['paragraphs'])==1\n",
    "        assert len(dialog['paragraphs'][0]['qas'])==1\n",
    "\n",
    "        # document/context\n",
    "        doc = dialog['paragraphs'][0]['context']\n",
    "        docs.append(doc)\n",
    "\n",
    "        #others\n",
    "        qas = dialog['paragraphs'][0]['qas'][0]\n",
    "        ids.append(qas['id'])\n",
    "        questions.append(qas['question'])\n",
    "        answers.append(qas['answers'][0])\n",
    "        is_impossible.append(qas['is_impossible'])\n",
    "        yesno.append(qas['yesno'])\n",
    "        followups.append(qas['followup'])\n",
    "        answer_candidates.append(qas['answer_candidates'])\n",
    "\n",
    "    answers = add_end_pos(answers, docs)\n",
    "    return {'questions':questions, 'docs':docs, 'answers':answers, 'ids':ids, 'is_impossible':is_impossible, 'yesno':yesno, 'followups':followups, 'answer_candidates':answer_candidates}\n",
    "\n",
    "\n",
    "def load_process_data(train_dir, val_dir):\n",
    "    train = pd.read_json(train_dir)['data']\n",
    "    val = pd.read_json(val_dir)['data']\n",
    "\n",
    "    train = extract_info(train)\n",
    "    val = extract_info(val)\n",
    "\n",
    "    train = Dataset.from_dict(train)\n",
    "    val = Dataset.from_dict(val)\n",
    "\n",
    "    dataset = DatasetDict({'train': train, 'validation': val})\n",
    "\n",
    "    return dataset"
   ]
  },
  {
   "cell_type": "code",
   "execution_count": 3,
   "metadata": {},
   "outputs": [],
   "source": [
    "def add_token_positions(val, answers):\n",
    "    start_positions = []\n",
    "    end_positions = []\n",
    "    for i in range(len(answers)):\n",
    "        # val.char_to_token(i, answers[i]['answer_start']) is the start_pos and it can be none\n",
    "        start_positions.append(val.char_to_token(i, answers[i]['answer_start'], sequence_index=1))\n",
    "\n",
    "        #this should not exist\n",
    "        if(answers[i]['answer_end']==0):\n",
    "            Exception('error...')\n",
    "            #end_positions.append(val.char_to_token(i, answers[i]['answer_end'])) \n",
    "        else:\n",
    "            end_positions.append(val.char_to_token(i, answers[i]['answer_end'] - 1, sequence_index=1))\n",
    "\n",
    "         # if None, the answer passage has been truncated\n",
    "         # Here is not a good approach\n",
    "        if start_positions[-1] is None:\n",
    "            print('start_positions[-1] is None')\n",
    "            start_positions[-1] = tokenizer.model_max_length\n",
    "\n",
    "        if end_positions[-1] is None:\n",
    "            print('end_positions[-1] is None')\n",
    "            end_positions[-1] = tokenizer.model_max_length\n",
    "\n",
    "    return start_positions, end_positions\n",
    "\n",
    "def encode(examples):\n",
    "    \"\"\"Mapping function to tokenize the sentences passed with truncation\"\"\"\n",
    "    encoding = tokenizer(examples[\"questions\"], examples[\"docs\"], truncation=True, padding=\"max_length\",\n",
    "                     max_length=512, return_special_tokens_mask=True)\n",
    "\n",
    "    start_positions, end_positions = add_token_positions(encoding, examples[\"answers\"])\n",
    "    encoding.update({'start_positions': start_positions, 'end_positions': end_positions})\n",
    "    return encoding\n"
   ]
  },
  {
   "cell_type": "code",
   "execution_count": 4,
   "metadata": {},
   "outputs": [],
   "source": [
    "train_dir = 'data/quac_train.json' \n",
    "val_dir = 'data/quac_dev.json' \n",
    "dataset = load_process_data(train_dir, val_dir)"
   ]
  },
  {
   "cell_type": "code",
   "execution_count": 5,
   "metadata": {},
   "outputs": [],
   "source": [
    "tokenizer = BertTokenizerFast.from_pretrained('bert-base-uncased', cache_dir=\"bert_base/\")\n",
    "#tokenizer = LongformerTokenizerFast.from_pretrained('allenai/longformer-base-4096', cache_dir=\"longformer/\")"
   ]
  },
  {
   "cell_type": "code",
   "execution_count": null,
   "metadata": {},
   "outputs": [],
   "source": [
    "train =  dataset[\"train\"].map(encode, batched=True)\n",
    "val =  dataset[\"validation\"].map(encode, batched=True)"
   ]
  },
  {
   "cell_type": "code",
   "execution_count": 7,
   "metadata": {},
   "outputs": [],
   "source": [
    "def prepare_model(trainSet,valSet,tokenizer):\n",
    "\n",
    "    model = BertForQuestionAnswering.from_pretrained('bert-base-uncased', cache_dir=\"bert_base/\")\n",
    "    #model = LongformerForQuestionAnswering.from_pretrained('allenai/longformer-base-4096', cache_dir=\"longformer/\")\n",
    "    model.cuda()\n",
    "\n",
    "    data_collator = DataCollatorWithPadding(tokenizer=tokenizer)\n",
    "\n",
    "    print('preparing model...')\n",
    "\n",
    "    args = TrainingArguments(\n",
    "        \"bert-base-cased-finetuned-quac\",\n",
    "        evaluation_strategy = \"steps\",\n",
    "        eval_steps=10,\n",
    "        save_strategy = \"steps\",\n",
    "        learning_rate=2e-5,\n",
    "        adafactor=True,\n",
    "        per_device_train_batch_size=32,\n",
    "        #gradient_accumulation_steps=4,\n",
    "        per_device_eval_batch_size=20,\n",
    "        logging_steps = 50,\n",
    "        num_train_epochs=50,\n",
    "        group_by_length=True,\n",
    "        weight_decay=0.01,\n",
    "        fp16=True,\n",
    "        #warmup_ratio=0.02,\n",
    "        save_total_limit = 3,\n",
    "        load_best_model_at_end=True,\n",
    "        report_to=\"wandb\",\n",
    "        run_name=\"bert-base-cased-finetuned-quac\",\n",
    "      )\n",
    "\n",
    "    trainer_quac = Trainer(\n",
    "        model=model,\n",
    "        args=args,\n",
    "        train_dataset=trainSet,\n",
    "        eval_dataset=valSet,\n",
    "        tokenizer=tokenizer,\n",
    "        data_collator=data_collator,\n",
    "        callbacks = [EarlyStoppingCallback(early_stopping_patience=3)],\n",
    "      )\n",
    "\n",
    "    print('ready to train!')\n",
    "    return trainer_quac"
   ]
  },
  {
   "cell_type": "code",
   "execution_count": 8,
   "metadata": {},
   "outputs": [
    {
     "name": "stderr",
     "output_type": "stream",
     "text": [
      "Some weights of the model checkpoint at bert-base-uncased were not used when initializing BertForQuestionAnswering: ['cls.predictions.transform.LayerNorm.weight', 'cls.predictions.transform.dense.weight', 'cls.predictions.transform.dense.bias', 'cls.predictions.transform.LayerNorm.bias', 'cls.predictions.decoder.weight', 'cls.predictions.bias', 'cls.seq_relationship.weight', 'cls.seq_relationship.bias']\n",
      "- This IS expected if you are initializing BertForQuestionAnswering from the checkpoint of a model trained on another task or with another architecture (e.g. initializing a BertForSequenceClassification model from a BertForPreTraining model).\n",
      "- This IS NOT expected if you are initializing BertForQuestionAnswering from the checkpoint of a model that you expect to be exactly identical (initializing a BertForSequenceClassification model from a BertForSequenceClassification model).\n",
      "Some weights of BertForQuestionAnswering were not initialized from the model checkpoint at bert-base-uncased and are newly initialized: ['qa_outputs.bias', 'qa_outputs.weight']\n",
      "You should probably TRAIN this model on a down-stream task to be able to use it for predictions and inference.\n"
     ]
    },
    {
     "name": "stdout",
     "output_type": "stream",
     "text": [
      "preparing model...\n"
     ]
    },
    {
     "name": "stderr",
     "output_type": "stream",
     "text": [
      "e:\\Anaconda3\\envs\\huggingface\\lib\\site-packages\\transformers\\training_args.py:1119: FutureWarning: `--adafactor` is deprecated and will be removed in version 5 of 🤗 Transformers. Use `--optim adafactor` instead\n",
      "  warnings.warn(\n",
      "Using cuda_amp half precision backend\n",
      "The following columns in the training set don't have a corresponding argument in `BertForQuestionAnswering.forward` and have been ignored: questions, followups, ids, answers, is_impossible, yesno, special_tokens_mask, docs, answer_candidates. If questions, followups, ids, answers, is_impossible, yesno, special_tokens_mask, docs, answer_candidates are not expected by `BertForQuestionAnswering.forward`,  you can safely ignore this message.\n"
     ]
    },
    {
     "name": "stdout",
     "output_type": "stream",
     "text": [
      "ready to train!\n"
     ]
    },
    {
     "name": "stderr",
     "output_type": "stream",
     "text": [
      "***** Running training *****\n",
      "  Num examples = 83568\n",
      "  Num Epochs = 50\n",
      "  Instantaneous batch size per device = 32\n",
      "  Total train batch size (w. parallel, distributed & accumulation) = 32\n",
      "  Gradient Accumulation steps = 1\n",
      "  Total optimization steps = 130600\n",
      "  Number of trainable parameters = 108893186\n",
      "Automatic Weights & Biases logging enabled, to disable set os.environ[\"WANDB_DISABLED\"] = \"true\"\n",
      "Failed to detect the name of this notebook, you can set it manually with the WANDB_NOTEBOOK_NAME environment variable to enable code saving.\n",
      "\u001b[34m\u001b[1mwandb\u001b[0m: Currently logged in as: \u001b[33mtan3\u001b[0m. Use \u001b[1m`wandb login --relogin`\u001b[0m to force relogin\n"
     ]
    },
    {
     "data": {
      "text/html": [
       "wandb version 0.13.9 is available!  To upgrade, please run:\n",
       " $ pip install wandb --upgrade"
      ],
      "text/plain": [
       "<IPython.core.display.HTML object>"
      ]
     },
     "metadata": {},
     "output_type": "display_data"
    },
    {
     "data": {
      "text/html": [
       "Tracking run with wandb version 0.13.6"
      ],
      "text/plain": [
       "<IPython.core.display.HTML object>"
      ]
     },
     "metadata": {},
     "output_type": "display_data"
    },
    {
     "data": {
      "text/html": [
       "Run data is saved locally in <code>e:\\Github\\QuAC_Implementation\\wandb\\run-20230114_134841-10r6axr9</code>"
      ],
      "text/plain": [
       "<IPython.core.display.HTML object>"
      ]
     },
     "metadata": {},
     "output_type": "display_data"
    },
    {
     "data": {
      "text/html": [
       "Syncing run <strong><a href=\"https://wandb.ai/tan3/huggingface/runs/10r6axr9\" target=\"_blank\">bert-base-cased-finetuned-quac</a></strong> to <a href=\"https://wandb.ai/tan3/huggingface\" target=\"_blank\">Weights & Biases</a> (<a href=\"https://wandb.me/run\" target=\"_blank\">docs</a>)<br/>"
      ],
      "text/plain": [
       "<IPython.core.display.HTML object>"
      ]
     },
     "metadata": {},
     "output_type": "display_data"
    },
    {
     "data": {
      "application/vnd.jupyter.widget-view+json": {
       "model_id": "ad0a2b0d043f4b5f9478d6eec52a9c9c",
       "version_major": 2,
       "version_minor": 0
      },
      "text/plain": [
       "  0%|          | 0/130600 [00:00<?, ?it/s]"
      ]
     },
     "metadata": {},
     "output_type": "display_data"
    },
    {
     "name": "stderr",
     "output_type": "stream",
     "text": [
      "You're using a BertTokenizerFast tokenizer. Please note that with a fast tokenizer, using the `__call__` method is faster than using a method to encode the text followed by a call to the `pad` method to get a padded encoding.\n",
      "The following columns in the evaluation set don't have a corresponding argument in `BertForQuestionAnswering.forward` and have been ignored: questions, followups, ids, answers, is_impossible, yesno, special_tokens_mask, docs, answer_candidates. If questions, followups, ids, answers, is_impossible, yesno, special_tokens_mask, docs, answer_candidates are not expected by `BertForQuestionAnswering.forward`,  you can safely ignore this message.\n",
      "***** Running Evaluation *****\n",
      "  Num examples = 7354\n",
      "  Batch size = 20\n"
     ]
    },
    {
     "data": {
      "application/vnd.jupyter.widget-view+json": {
       "model_id": "3781be5a95e2482e8129047c7dd5bb43",
       "version_major": 2,
       "version_minor": 0
      },
      "text/plain": [
       "  0%|          | 0/368 [00:00<?, ?it/s]"
      ]
     },
     "metadata": {},
     "output_type": "display_data"
    },
    {
     "name": "stdout",
     "output_type": "stream",
     "text": [
      "{'eval_loss': 5.388714790344238, 'eval_runtime': 25.3004, 'eval_samples_per_second': 290.668, 'eval_steps_per_second': 14.545, 'epoch': 0.0}\n"
     ]
    },
    {
     "name": "stderr",
     "output_type": "stream",
     "text": [
      "The following columns in the evaluation set don't have a corresponding argument in `BertForQuestionAnswering.forward` and have been ignored: questions, followups, ids, answers, is_impossible, yesno, special_tokens_mask, docs, answer_candidates. If questions, followups, ids, answers, is_impossible, yesno, special_tokens_mask, docs, answer_candidates are not expected by `BertForQuestionAnswering.forward`,  you can safely ignore this message.\n",
      "***** Running Evaluation *****\n",
      "  Num examples = 7354\n",
      "  Batch size = 20\n"
     ]
    },
    {
     "data": {
      "application/vnd.jupyter.widget-view+json": {
       "model_id": "3d135e2358274215b3dfd78409b2e64d",
       "version_major": 2,
       "version_minor": 0
      },
      "text/plain": [
       "  0%|          | 0/368 [00:00<?, ?it/s]"
      ]
     },
     "metadata": {},
     "output_type": "display_data"
    }
   ],
   "source": [
    "trainer_quac = prepare_model(train,val,tokenizer)\n",
    "\n",
    "trainer_quac.train()"
   ]
  },
  {
   "cell_type": "code",
   "execution_count": null,
   "metadata": {},
   "outputs": [],
   "source": []
  }
 ],
 "metadata": {
  "kernelspec": {
   "display_name": "Python 3.9.15 ('huggingface')",
   "language": "python",
   "name": "python3"
  },
  "language_info": {
   "codemirror_mode": {
    "name": "ipython",
    "version": 3
   },
   "file_extension": ".py",
   "mimetype": "text/x-python",
   "name": "python",
   "nbconvert_exporter": "python",
   "pygments_lexer": "ipython3",
   "version": "3.9.15"
  },
  "orig_nbformat": 4,
  "vscode": {
   "interpreter": {
    "hash": "0dabe801c376013a89feb4cd8e0adecc1feba37c80815c91c8a163775f30401c"
   }
  }
 },
 "nbformat": 4,
 "nbformat_minor": 2
}
